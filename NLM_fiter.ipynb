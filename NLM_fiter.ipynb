{
  "cells": [
    {
      "cell_type": "code",
      "execution_count": null,
      "metadata": {},
      "outputs": [],
      "source": [
        "from skimage.util import random_noise\n",
        "import numpy as np\n",
        "from skimage.metrics import mean_squared_error, peak_signal_noise_ratio"
      ]
    },
    {
      "cell_type": "code",
      "execution_count": 27,
      "metadata": {
        "id": "7G-NKGAhlUx7"
      },
      "outputs": [],
      "source": [
        "def MSE(image1,image2):\n",
        "  mse = np.mean(np.square(image1.astype(float) - image2.astype(float)))\n",
        "  \n",
        "  return mse\n",
        "\n",
        "def PSNR(image1, image2, peak=255):\n",
        "  mse = MSE(image1,image2)\n",
        "\n",
        "  psnr = 10*np.log10(peak**2/mse)\n",
        "\n",
        "  return psnr"
      ]
    },
    {
      "cell_type": "code",
      "execution_count": 25,
      "metadata": {
        "id": "OtEcriZeaEYZ"
      },
      "outputs": [],
      "source": [
        "def create_gaussian_noise(img,mean=0,var=0.01):\n",
        "\n",
        "    # Converting pixel values from 0-255 to 0-1 float\n",
        "    img = img/255\n",
        "\n",
        "    # Initializing the result (noisy) image\n",
        "    result = img.copy()\n",
        "\n",
        "    # Adding gaussian noise to the image\n",
        "    gauss = np.random.normal(mean, var**0.5, img.shape)\n",
        "    result = result + gauss\n",
        "    result = np.clip(result, 0, 1)\n",
        "\n",
        "    # Converting the result back to uint8\n",
        "    result = np.uint8(result*255)\n",
        "\n",
        "    return result"
      ]
    },
    {
      "cell_type": "code",
      "execution_count": 9,
      "metadata": {
        "id": "KDlh6rzUp9VL"
      },
      "outputs": [],
      "source": [
        "from numba import jit\n",
        "\n",
        "@jit(nopython=True, cache=True)\n",
        "def findAllNeighbors(padImg,small_window,big_window,h,w):\n",
        "    smallWidth = small_window//2\n",
        "    bigWidth = big_window//2\n",
        "\n",
        "    neighbors = np.zeros((padImg.shape[0],padImg.shape[1],small_window,small_window))\n",
        "\n",
        "    for i in range(bigWidth,bigWidth + h):\n",
        "        for j in range(bigWidth,bigWidth + w):   \n",
        "            neighbors[i,j] = padImg[(i - smallWidth):(i + smallWidth + 1) , (j - smallWidth):(j + smallWidth + 1)]\n",
        "    \n",
        "    return neighbors\n",
        "\n",
        "@jit(nopython=True, cache=True)\n",
        "def evaluateNorm(pixelWindow, neighborWindow, Nw):\n",
        "    Ip_Numerator,Z = 0,0\n",
        "\n",
        "    for i in range(neighborWindow.shape[0]):\n",
        "      for j in range(neighborWindow.shape[1]):\n",
        "        q_window = neighborWindow[i,j]\n",
        "\n",
        "        q_x,q_y = q_window.shape[0]//2,q_window.shape[1]//2\n",
        "\n",
        "        Iq = q_window[q_x, q_y]\n",
        "\n",
        "        w = np.exp(-1*((np.sum((pixelWindow - q_window)**2))/Nw))\n",
        "\n",
        "        Ip_Numerator = Ip_Numerator + (w*Iq)\n",
        "        Z = Z + w\n",
        "\n",
        "    return Ip_Numerator/Z"
      ]
    },
    {
      "cell_type": "code",
      "execution_count": 37,
      "metadata": {
        "id": "DcUEntN_jod7"
      },
      "outputs": [],
      "source": [
        "class NLMeans():\n",
        "\n",
        "  def solve(self,img,h=30,small_window=7,big_window=21):\n",
        "    padImg = np.pad(img,big_window//2,mode='reflect')\n",
        "\n",
        "    return self.NLM(padImg,img,h,small_window,big_window)\n",
        "\n",
        "  @staticmethod\n",
        "  @jit(nopython = True, cache = True)\n",
        "  def NLM(padImg, img, h, small_window, big_window):\n",
        "    Nw = (h**2)*(small_window**2)\n",
        "\n",
        "    h,w = img.shape\n",
        "\n",
        "    result = np.zeros(img.shape)\n",
        "\n",
        "    bigWidth = big_window//2\n",
        "    smallWidth = small_window//2\n",
        "\n",
        "    neighbors = findAllNeighbors(padImg, small_window, big_window, h, w) \n",
        "\n",
        "    for i in range(bigWidth, bigWidth + h):\n",
        "        for j in range(bigWidth, bigWidth + w):\n",
        "            pixelWindow = neighbors[i,j]\n",
        "\n",
        "            neighborWindow = neighbors[(i - bigWidth):(i + bigWidth + 1) , (j - bigWidth):(j + bigWidth + 1)]\n",
        "\n",
        "            Ip = evaluateNorm(pixelWindow, neighborWindow, Nw)\n",
        "\n",
        "            result[i - bigWidth, j - bigWidth] = max(min(255, Ip), 0)\n",
        "\n",
        "    return result"
      ]
    },
    {
      "cell_type": "code",
      "execution_count": 38,
      "metadata": {
        "colab": {
          "base_uri": "https://localhost:8080/",
          "height": 1000
        },
        "id": "oWLzjvlIrMfj",
        "outputId": "a78835d4-ddad-421e-cc81-97dd811d3fc6"
      },
      "outputs": [
        {
          "ename": "TypingError",
          "evalue": "Failed in nopython mode pipeline (step: nopython frontend)\n\u001b[1mNameError: name 'find_all_neighbors' is not defined\u001b[0m",
          "output_type": "error",
          "traceback": [
            "\u001b[1;31m---------------------------------------------------------------------------\u001b[0m",
            "\u001b[1;31mTypingError\u001b[0m                               Traceback (most recent call last)",
            "Cell \u001b[1;32mIn[38], line 20\u001b[0m\n\u001b[0;32m     15\u001b[0m image \u001b[39m=\u001b[39m cv2\u001b[39m.\u001b[39mcvtColor(image, cv2\u001b[39m.\u001b[39mCOLOR_BGR2GRAY)\n\u001b[0;32m     17\u001b[0m gaussian_noised \u001b[39m=\u001b[39m create_gaussian_noise(image\u001b[39m.\u001b[39mcopy())\n\u001b[1;32m---> 20\u001b[0m my_gaussian_denoise \u001b[39m=\u001b[39m denoiser\u001b[39m.\u001b[39;49msolve(gaussian_example\u001b[39m.\u001b[39;49mcopy(),h\u001b[39m=\u001b[39;49mgaussian_h)\n\u001b[0;32m     23\u001b[0m plt\u001b[39m.\u001b[39mfigure(figsize\u001b[39m=\u001b[39m(\u001b[39m20\u001b[39m,\u001b[39m15\u001b[39m))\n\u001b[0;32m     24\u001b[0m plt\u001b[39m.\u001b[39msubplot(\u001b[39m1\u001b[39m,\u001b[39m3\u001b[39m,\u001b[39m1\u001b[39m)\n",
            "Cell \u001b[1;32mIn[37], line 6\u001b[0m, in \u001b[0;36mNLMeans.solve\u001b[1;34m(self, img, h, small_window, big_window)\u001b[0m\n\u001b[0;32m      3\u001b[0m \u001b[39mdef\u001b[39;00m \u001b[39msolve\u001b[39m(\u001b[39mself\u001b[39m,img,h\u001b[39m=\u001b[39m\u001b[39m30\u001b[39m,small_window\u001b[39m=\u001b[39m\u001b[39m7\u001b[39m,big_window\u001b[39m=\u001b[39m\u001b[39m21\u001b[39m):\n\u001b[0;32m      4\u001b[0m   padImg \u001b[39m=\u001b[39m np\u001b[39m.\u001b[39mpad(img,big_window\u001b[39m/\u001b[39m\u001b[39m/\u001b[39m\u001b[39m2\u001b[39m,mode\u001b[39m=\u001b[39m\u001b[39m'\u001b[39m\u001b[39mreflect\u001b[39m\u001b[39m'\u001b[39m)\n\u001b[1;32m----> 6\u001b[0m   \u001b[39mreturn\u001b[39;00m \u001b[39mself\u001b[39;49m\u001b[39m.\u001b[39;49mNLM(padImg,img,h,small_window,big_window)\n",
            "File \u001b[1;32mc:\\Users\\polis\\Desktop\\NLM_filter\\.venv\\lib\\site-packages\\numba\\core\\dispatcher.py:468\u001b[0m, in \u001b[0;36m_DispatcherBase._compile_for_args\u001b[1;34m(self, *args, **kws)\u001b[0m\n\u001b[0;32m    464\u001b[0m         msg \u001b[39m=\u001b[39m (\u001b[39mf\u001b[39m\u001b[39m\"\u001b[39m\u001b[39m{\u001b[39;00m\u001b[39mstr\u001b[39m(e)\u001b[39m.\u001b[39mrstrip()\u001b[39m}\u001b[39;00m\u001b[39m \u001b[39m\u001b[39m\\n\u001b[39;00m\u001b[39m\\n\u001b[39;00m\u001b[39mThis error may have been caused \u001b[39m\u001b[39m\"\u001b[39m\n\u001b[0;32m    465\u001b[0m                \u001b[39mf\u001b[39m\u001b[39m\"\u001b[39m\u001b[39mby the following argument(s):\u001b[39m\u001b[39m\\n\u001b[39;00m\u001b[39m{\u001b[39;00margs_str\u001b[39m}\u001b[39;00m\u001b[39m\\n\u001b[39;00m\u001b[39m\"\u001b[39m)\n\u001b[0;32m    466\u001b[0m         e\u001b[39m.\u001b[39mpatch_message(msg)\n\u001b[1;32m--> 468\u001b[0m     error_rewrite(e, \u001b[39m'\u001b[39;49m\u001b[39mtyping\u001b[39;49m\u001b[39m'\u001b[39;49m)\n\u001b[0;32m    469\u001b[0m \u001b[39mexcept\u001b[39;00m errors\u001b[39m.\u001b[39mUnsupportedError \u001b[39mas\u001b[39;00m e:\n\u001b[0;32m    470\u001b[0m     \u001b[39m# Something unsupported is present in the user code, add help info\u001b[39;00m\n\u001b[0;32m    471\u001b[0m     error_rewrite(e, \u001b[39m'\u001b[39m\u001b[39munsupported_error\u001b[39m\u001b[39m'\u001b[39m)\n",
            "File \u001b[1;32mc:\\Users\\polis\\Desktop\\NLM_filter\\.venv\\lib\\site-packages\\numba\\core\\dispatcher.py:409\u001b[0m, in \u001b[0;36m_DispatcherBase._compile_for_args.<locals>.error_rewrite\u001b[1;34m(e, issue_type)\u001b[0m\n\u001b[0;32m    407\u001b[0m     \u001b[39mraise\u001b[39;00m e\n\u001b[0;32m    408\u001b[0m \u001b[39melse\u001b[39;00m:\n\u001b[1;32m--> 409\u001b[0m     \u001b[39mraise\u001b[39;00m e\u001b[39m.\u001b[39mwith_traceback(\u001b[39mNone\u001b[39;00m)\n",
            "\u001b[1;31mTypingError\u001b[0m: Failed in nopython mode pipeline (step: nopython frontend)\n\u001b[1mNameError: name 'find_all_neighbors' is not defined\u001b[0m"
          ]
        }
      ],
      "source": [
        "image_number = 3 \n",
        "salt_and_paper_h =   36\n",
        "gaussian_h =         27\n",
        "\n",
        "%matplotlib inline\n",
        "import cv2\n",
        "import matplotlib.pyplot as plt\n",
        "from IPython.display import clear_output\n",
        " \n",
        "clear_output(wait=True)\n",
        " \n",
        " \n",
        "denoiser = NLMeans()\n",
        "image = cv2.imread(f\"./astronaut.png\")\n",
        "image = cv2.cvtColor(image, cv2.COLOR_BGR2GRAY)\n",
        "\n",
        "gaussian_noised = create_gaussian_noise(image.copy())\n",
        "  \n",
        "\n",
        "my_gaussian_denoise = denoiser.solve(gaussian_example.copy(),h=gaussian_h)\n",
        "\n",
        " \n",
        "plt.figure(figsize=(20,15))\n",
        "plt.subplot(1,3,1)\n",
        "plt.imshow(image,cmap='gray')\n",
        "plt.title(\"Original Image\")\n",
        "\n",
        "plt.subplot(1,3,2)\n",
        "plt.imshow(image,cmap='gray')\n",
        "plt.title(f\"Gaussian Denoise, PSNR:{PSNR(image,my_gaussian_denoise):.2f}\")\n",
        "plt.show()"
      ]
    }
  ],
  "metadata": {
    "colab": {
      "collapsed_sections": [
        "cL8xjXxOisgs"
      ],
      "name": "18110091_Assignment1",
      "provenance": []
    },
    "kernelspec": {
      "display_name": "Python 3",
      "name": "python3"
    },
    "language_info": {
      "codemirror_mode": {
        "name": "ipython",
        "version": 3
      },
      "file_extension": ".py",
      "mimetype": "text/x-python",
      "name": "python",
      "nbconvert_exporter": "python",
      "pygments_lexer": "ipython3",
      "version": "3.10.4"
    }
  },
  "nbformat": 4,
  "nbformat_minor": 0
}
